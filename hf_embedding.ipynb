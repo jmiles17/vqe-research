{
 "metadata": {
  "language_info": {
   "codemirror_mode": {
    "name": "ipython",
    "version": 3
   },
   "file_extension": ".py",
   "mimetype": "text/x-python",
   "name": "python",
   "nbconvert_exporter": "python",
   "pygments_lexer": "ipython3",
   "version": "3.6.9"
  },
  "orig_nbformat": 2,
  "kernelspec": {
   "name": "python369jvsc74a57bd031f2aee4e71d21fbe5cf8b01ff0e069b9275f58929596ceb00d14d90e3e16cd6",
   "display_name": "Python 3.6.9 64-bit"
  },
  "metadata": {
   "interpreter": {
    "hash": "31f2aee4e71d21fbe5cf8b01ff0e069b9275f58929596ceb00d14d90e3e16cd6"
   }
  }
 },
 "nbformat": 4,
 "nbformat_minor": 2,
 "cells": [
  {
   "cell_type": "code",
   "execution_count": 1,
   "metadata": {},
   "outputs": [],
   "source": [
    "# HF Embedding\n",
    "# Jason Miles\n",
    "\n",
    "# A program to calculate the electronic structure of H2O, Pyridine, and Benzene\n",
    "#   using the HF Embedding Scheme described in: https://arxiv.org/abs/2009.01872"
   ]
  },
  {
   "cell_type": "code",
   "execution_count": 2,
   "metadata": {},
   "outputs": [
    {
     "output_type": "stream",
     "name": "stderr",
     "text": [
      "/home/jay/.local/lib/python3.6/site-packages/qiskit/__init__.py:67: DeprecationWarning: Using Qiskit with Python 3.6 is deprecated as of the 0.17.0 release. Support for running Qiskit with Python 3.6 will be removed in a future release.\n  \"future release.\", DeprecationWarning)\n"
     ]
    }
   ],
   "source": [
    "from qiskit_nature.drivers import PySCFDriver, UnitsType\n",
    "from qiskit_nature.problems.second_quantization.electronic import ElectronicStructureProblem\n",
    "\n",
    "from qiskit.algorithms.optimizers import L_BFGS_B, SLSQP\n",
    "from qiskit_nature.mappers.second_quantization import ParityMapper\n",
    "from qiskit_nature.operators.second_quantization.qubit_converter import QubitConverter\n",
    "\n",
    "from qiskit_nature.circuit.library import HartreeFock, UCCSD\n",
    "\n",
    "from qiskit import Aer, IBMQ\n",
    "\n",
    "from qiskit.algorithms import VQE\n",
    "\n",
    "from qiskit_nature.transformers import ActiveSpaceTransformer\n",
    "\n",
    "from qiskit.aqua.operators import Z2Symmetries\n",
    "\n",
    "import matplotlib.pyplot as plt"
   ]
  },
  {
   "cell_type": "code",
   "execution_count": 3,
   "metadata": {},
   "outputs": [],
   "source": [
    "from qiskit_nature.operators.second_quantization.qubit_converter import QubitConverter"
   ]
  },
  {
   "cell_type": "code",
   "execution_count": 4,
   "metadata": {},
   "outputs": [],
   "source": [
    "# this function is set up to calculate the energy of a molecule with \n",
    "# different active space configurations:\n",
    "#   (n el, n orb)\n",
    "def calc_hf_embed(molecule, backend, as_orb):\n",
    "\n",
    "    # range for num electrons\n",
    "    for el in range(2, 5):\n",
    "\n",
    "        # set up driver\n",
    "        # the driver encodes the molecule information\n",
    "        driver = PySCFDriver(atom=molecule, unit=UnitsType.ANGSTROM, basis='631g')\n",
    "\n",
    "        # active space:\n",
    "        nel = 2*el\n",
    "        norb = as_orb\n",
    "        ast = ActiveSpaceTransformer(num_electrons=nel, num_molecular_orbitals=norb)\n",
    "        print(\"\\nActive Space:\\nNum Electrons: {}\\nNum Orbitals: {}\".format(nel, norb))\n",
    "\n",
    "        # problem\n",
    "        problem = ElectronicStructureProblem(driver=driver, q_molecule_transformers=[ast])\n",
    "\n",
    "        # calculate second quantized operators\n",
    "        # this function will transform the molecule with the given active space\n",
    "        sqops = problem.second_q_ops()\n",
    "        main_op = sqops[0]\n",
    "\n",
    "        # extract initial HF energy\n",
    "        print(\"HF energy: \", problem.molecule_data_transformed.hf_energy, \"\\n\")  \n",
    "\n",
    "        # plot orbital energies\n",
    "        plot_bool = False\n",
    "        if plot_bool:\n",
    "            plot_orbital_energies(problem.molecule_data.orbital_energies)\n",
    "            plot_orbital_energies(problem.molecule_data_transformed.orbital_energies)\n",
    "\n",
    "        # num_particles, or, num electrons\n",
    "        num_parts = (problem.molecule_data_transformed.num_alpha, \n",
    "                            problem.molecule_data_transformed.num_beta)\n",
    "\n",
    "        # spin orbitals hold one electron each, and will be mapped to qubits\n",
    "        num_spin_orbs = 2 * problem.molecule_data_transformed.num_molecular_orbitals\n",
    "\n",
    "        # other parameters of VQE\n",
    "        optimizer = SLSQP()\n",
    "        # optimizer = L_BFGS_B()\n",
    "        mapper = ParityMapper()\n",
    "        converter = QubitConverter(mapper=mapper, two_qubit_reduction=True)\n",
    "        \n",
    "        qubit_op = converter.convert(main_op, num_particles=num_parts)\n",
    "\n",
    "        # initial state of system\n",
    "        # remember, this represents the Hamiltonian\n",
    "        init_state = HartreeFock(num_spin_orbs, num_parts, converter)\n",
    "\n",
    "        # ansatz\n",
    "        # parameterized circuit representing wave function\n",
    "        ansatz = UCCSD(qubit_converter=converter, num_particles=num_parts,\n",
    "                        num_spin_orbitals=num_spin_orbs, initial_state=init_state)\n",
    "        \n",
    "        # algorithm\n",
    "        algorithm = VQE(ansatz, optimizer, quantum_instance=backend)\n",
    "\n",
    "        # results\n",
    "        result = algorithm.compute_minimum_eigenvalue(qubit_op)\n",
    "        electro_res = problem.interpret(result)\n",
    "        print(electro_res)\n",
    "\n",
    "\n"
   ]
  },
  {
   "cell_type": "code",
   "execution_count": null,
   "metadata": {},
   "outputs": [],
   "source": [
    "\n",
    "def plot_orbital_energies(energies):\n",
    "\n",
    "    plt.scatter( [1] * len(energies), energies, marker='_' )\n",
    "    plt.ylabel(\"Energy (HA)\")\n",
    "    plt.title(\"Orbital Energies\")\n",
    "    plt.show()\n",
    "\n",
    "\n"
   ]
  },
  {
   "cell_type": "code",
   "execution_count": 5,
   "metadata": {},
   "outputs": [],
   "source": [
    "def calc_benzene(molecule, backend, as_orb):\n",
    "\n",
    "    for el in range(3, 5):\n",
    "\n",
    "        # set up driver\n",
    "        # the driver encodes the molecule information\n",
    "        driver = PySCFDriver(atom=molecule, unit=UnitsType.ANGSTROM, basis='631g')\n",
    "\n",
    "        # active space:\n",
    "        nel = 2*el\n",
    "        # norb = 6\n",
    "        norb = as_orb\n",
    "        ast = ActiveSpaceTransformer(num_electrons=nel, num_molecular_orbitals=norb)\n",
    "        print(\"\\nActive Space:\\nNum Electrons: {}\\nNum Orbitals: {}\".format(nel, norb))\n",
    "\n",
    "        # problem\n",
    "        problem = ElectronicStructureProblem(driver=driver, q_molecule_transformers=[ast])\n",
    "\n",
    "        # calculate second quantized operators\n",
    "        # this function will transform the molecule with the given active space\n",
    "        sqops = problem.second_q_ops()\n",
    "        main_op = sqops[0]\n",
    "\n",
    "        # extract initial HF energy\n",
    "        print(\"HF energy: \", problem.molecule_data_transformed.hf_energy, \"\\n\")      \n",
    "\n",
    "        # num_particles, or, num electrons\n",
    "        num_parts = (problem.molecule_data_transformed.num_alpha, \n",
    "                            problem.molecule_data_transformed.num_beta)\n",
    "\n",
    "        # spin orbitals hold one electron each, and will be mapped to qubits\n",
    "        num_spin_orbs = 2 * problem.molecule_data_transformed.num_molecular_orbitals\n",
    "\n",
    "        # other parameters of VQE\n",
    "        optimizer = SLSQP()\n",
    "        # optimizer = L_BFGS_B()\n",
    "        mapper = ParityMapper()\n",
    "        converter = QubitConverter(mapper=mapper, two_qubit_reduction=True, z2symmetry_reduction='auto')\n",
    "        \n",
    "        qubit_op = converter.convert(main_op, num_particles=num_parts)\n",
    "\n",
    "        print(\"n qubs: \", qubit_op.num_qubits)\n",
    "\n",
    "        # initial state of system\n",
    "        # remember, this represents the Hamiltonian\n",
    "        init_state = HartreeFock(num_spin_orbs, num_parts, converter)\n",
    "\n",
    "        # ansatz\n",
    "        # parameterized circuit representing wave function\n",
    "        ansatz = UCCSD(qubit_converter=converter, num_particles=num_parts,\n",
    "                        num_spin_orbitals=num_spin_orbs, initial_state=init_state)\n",
    "        \n",
    "        # algorithm\n",
    "        algorithm = VQE(ansatz, optimizer, quantum_instance=backend)\n",
    "\n",
    "        # results\n",
    "        result = algorithm.compute_minimum_eigenvalue(qubit_op)\n",
    "\n",
    "        electro_res = problem.interpret(result)\n",
    "        print(electro_res)\n",
    "\n",
    "\n"
   ]
  },
  {
   "cell_type": "code",
   "execution_count": 7,
   "metadata": {},
   "outputs": [],
   "source": [
    "# define backend\n",
    "\n",
    "# IBMQ.load_account()\n",
    "# provider = IBMQ.get_provider(hub='ibm-q')\n",
    "# backend = provider.get_backend('simulator_statevector')\n",
    "\n",
    "backend = Aer.get_backend('statevector_simulator')\n"
   ]
  },
  {
   "cell_type": "code",
   "execution_count": 8,
   "metadata": {},
   "outputs": [
    {
     "output_type": "stream",
     "name": "stdout",
     "text": [
      "\nCalculating the energy of H2O...\n\n"
     ]
    }
   ],
   "source": [
    "\n",
    "h2o = 'O 0.0 0.0 0.0; H 0.757 0.586 0.0; H -0.757 0.586 0.0'\n",
    "\n",
    "print(\"\\nCalculating the energy of H2O...\\n\")\n",
    "#calc_hf_embed(h2o, backend, 'h2o')\n"
   ]
  },
  {
   "cell_type": "code",
   "execution_count": 9,
   "metadata": {},
   "outputs": [
    {
     "output_type": "stream",
     "name": "stdout",
     "text": [
      "\nCalculating the energy of pyridine...\n\n"
     ]
    }
   ],
   "source": [
    "\n",
    "pyridine = '''C 1.3603 0.0256 0.0000; C 0.6971 -1.2020 0.0000; \n",
    "            C -0.6944 -1.2184 0.0000; C -1.3895 -0.0129 0.0000; \n",
    "            C -0.6712 1.1834 0.0000; N 0.6816 1.1960 0.0000;\n",
    "            H 2.4530 0.1083 0.0000; H 1.2665 -2.1365 0.0000; \n",
    "            H -1.2365 -2.1696 0.0000; H -2.4837 0.0011 0.0000; \n",
    "            H -1.1569 2.1657 0.0000'''\n",
    "\n",
    "print(\"\\nCalculating the energy of pyridine...\\n\")\n",
    "#calc_hf_embed(pyridine, backend, 'pyridine')\n"
   ]
  },
  {
   "cell_type": "code",
   "execution_count": 10,
   "metadata": {},
   "outputs": [
    {
     "output_type": "stream",
     "name": "stdout",
     "text": [
      "\n",
      "Calculating the energy of benzene...\n",
      "\n",
      "\n",
      "Active Space:\n",
      "Num Electrons: 6\n",
      "Num Orbitals: 8\n",
      "HF energy:  -230.62229793974825 \n",
      "\n",
      "ipykernel_launcher:38: DeprecationWarning: This QubitConverter is deprecated as of 0.1.0, and will be removed no earlier than 3 months after the release. You should use the qiskit_nature.converters.second_quantization QubitConverter as a direct replacement instead.\n",
      "n qubs:  14\n",
      "spin orbs:  16\n",
      "particles:  (3, 3)\n"
     ]
    },
    {
     "output_type": "error",
     "ename": "AttributeError",
     "evalue": "'NoneType' object has no attribute 'num_qubits'",
     "traceback": [
      "\u001b[0;31m---------------------------------------------------------------------------\u001b[0m",
      "\u001b[0;31mAttributeError\u001b[0m                            Traceback (most recent call last)",
      "\u001b[0;32m<ipython-input-10-a082810dc641>\u001b[0m in \u001b[0;36m<module>\u001b[0;34m\u001b[0m\n\u001b[1;32m      4\u001b[0m \u001b[0;34m\u001b[0m\u001b[0m\n\u001b[1;32m      5\u001b[0m \u001b[0mprint\u001b[0m\u001b[0;34m(\u001b[0m\u001b[0;34m\"\\nCalculating the energy of benzene...\\n\"\u001b[0m\u001b[0;34m)\u001b[0m\u001b[0;34m\u001b[0m\u001b[0;34m\u001b[0m\u001b[0m\n\u001b[0;32m----> 6\u001b[0;31m \u001b[0mcalc_benzene\u001b[0m\u001b[0;34m(\u001b[0m\u001b[0mbenzene\u001b[0m\u001b[0;34m,\u001b[0m \u001b[0mbackend\u001b[0m\u001b[0;34m,\u001b[0m \u001b[0;36m8\u001b[0m\u001b[0;34m)\u001b[0m\u001b[0;34m\u001b[0m\u001b[0;34m\u001b[0m\u001b[0m\n\u001b[0m",
      "\u001b[0;32m<ipython-input-5-e7d76b11073c>\u001b[0m in \u001b[0;36mcalc_benzene\u001b[0;34m(molecule, backend, as_orb)\u001b[0m\n\u001b[1;32m     50\u001b[0m         \u001b[0;31m# initial state of system\u001b[0m\u001b[0;34m\u001b[0m\u001b[0;34m\u001b[0m\u001b[0;34m\u001b[0m\u001b[0m\n\u001b[1;32m     51\u001b[0m         \u001b[0;31m# remember, this represents the Hamiltonian\u001b[0m\u001b[0;34m\u001b[0m\u001b[0;34m\u001b[0m\u001b[0;34m\u001b[0m\u001b[0m\n\u001b[0;32m---> 52\u001b[0;31m         \u001b[0minit_state\u001b[0m \u001b[0;34m=\u001b[0m \u001b[0mHartreeFock\u001b[0m\u001b[0;34m(\u001b[0m\u001b[0mnum_spin_orbs\u001b[0m\u001b[0;34m,\u001b[0m \u001b[0mnum_parts\u001b[0m\u001b[0;34m,\u001b[0m \u001b[0mconverter\u001b[0m\u001b[0;34m)\u001b[0m\u001b[0;34m\u001b[0m\u001b[0;34m\u001b[0m\u001b[0m\n\u001b[0m\u001b[1;32m     53\u001b[0m \u001b[0;34m\u001b[0m\u001b[0m\n\u001b[1;32m     54\u001b[0m         \u001b[0;31m# ansatz\u001b[0m\u001b[0;34m\u001b[0m\u001b[0;34m\u001b[0m\u001b[0;34m\u001b[0m\u001b[0m\n",
      "\u001b[0;32m~/.local/lib/python3.6/site-packages/qiskit_nature/circuit/library/initial_states/hartree_fock.py\u001b[0m in \u001b[0;36m__init__\u001b[0;34m(self, num_spin_orbitals, num_particles, qubit_converter)\u001b[0m\n\u001b[1;32m     51\u001b[0m \u001b[0;34m\u001b[0m\u001b[0m\n\u001b[1;32m     52\u001b[0m         \u001b[0;31m# construct the circuit\u001b[0m\u001b[0;34m\u001b[0m\u001b[0;34m\u001b[0m\u001b[0;34m\u001b[0m\u001b[0m\n\u001b[0;32m---> 53\u001b[0;31m         \u001b[0mqr\u001b[0m \u001b[0;34m=\u001b[0m \u001b[0mQuantumRegister\u001b[0m\u001b[0;34m(\u001b[0m\u001b[0mqubit_op\u001b[0m\u001b[0;34m.\u001b[0m\u001b[0mnum_qubits\u001b[0m\u001b[0;34m,\u001b[0m \u001b[0;34m'q'\u001b[0m\u001b[0;34m)\u001b[0m\u001b[0;34m\u001b[0m\u001b[0;34m\u001b[0m\u001b[0m\n\u001b[0m\u001b[1;32m     54\u001b[0m         \u001b[0msuper\u001b[0m\u001b[0;34m(\u001b[0m\u001b[0;34m)\u001b[0m\u001b[0;34m.\u001b[0m\u001b[0m__init__\u001b[0m\u001b[0;34m(\u001b[0m\u001b[0mqr\u001b[0m\u001b[0;34m,\u001b[0m \u001b[0mname\u001b[0m\u001b[0;34m=\u001b[0m\u001b[0;34m'HF'\u001b[0m\u001b[0;34m)\u001b[0m\u001b[0;34m\u001b[0m\u001b[0;34m\u001b[0m\u001b[0m\n\u001b[1;32m     55\u001b[0m \u001b[0;34m\u001b[0m\u001b[0m\n",
      "\u001b[0;31mAttributeError\u001b[0m: 'NoneType' object has no attribute 'num_qubits'"
     ]
    }
   ],
   "source": [
    "\n",
    "benzene = '''C .0 1.403 .0; H .0 2.49 .0; C -1.215 0.701 .0; H -2.157 1.245 .0; \n",
    "        C -1.215 -.701 .0; H -2.157 -1.245 .0; C .0 -1.403 .0; H .0 -2.49 .0; \n",
    "        C 1.215 -.701 .0; H 2.157 -1.245 .0; C 1.215 .701 .0; H 2.157 1.245 .0'''\n",
    "\n",
    "print(\"\\nCalculating the energy of benzene...\\n\")\n",
    "calc_benzene(benzene, backend, 7)\n"
   ]
  },
  {
   "cell_type": "code",
   "execution_count": null,
   "metadata": {},
   "outputs": [],
   "source": []
  }
 ]
}