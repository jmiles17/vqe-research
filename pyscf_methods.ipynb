{
 "metadata": {
  "language_info": {
   "codemirror_mode": {
    "name": "ipython",
    "version": 3
   },
   "file_extension": ".py",
   "mimetype": "text/x-python",
   "name": "python",
   "nbconvert_exporter": "python",
   "pygments_lexer": "ipython3",
   "version": "3.6.9"
  },
  "orig_nbformat": 2,
  "kernelspec": {
   "name": "python369jvsc74a57bd031f2aee4e71d21fbe5cf8b01ff0e069b9275f58929596ceb00d14d90e3e16cd6",
   "display_name": "Python 3.6.9 64-bit"
  },
  "metadata": {
   "interpreter": {
    "hash": "31f2aee4e71d21fbe5cf8b01ff0e069b9275f58929596ceb00d14d90e3e16cd6"
   }
  }
 },
 "nbformat": 4,
 "nbformat_minor": 2,
 "cells": [
  {
   "cell_type": "code",
   "execution_count": 1,
   "metadata": {},
   "outputs": [],
   "source": [
    "# pyscf_methods\n",
    "# Jason Miles\n",
    "\n",
    "# a program demonstrating a few pyscf calculations of h2o"
   ]
  },
  {
   "cell_type": "code",
   "execution_count": 2,
   "metadata": {},
   "outputs": [],
   "source": [
    "from pyscf import scf, gto, dft, mcscf"
   ]
  },
  {
   "cell_type": "code",
   "execution_count": 3,
   "metadata": {},
   "outputs": [],
   "source": [
    "# setup molecule\n",
    "h2o = 'O 0.0 0.0 0.0; H 0.757 0.586 0.0; H -0.757 0.586 0.0'\n",
    "\n"
   ]
  },
  {
   "cell_type": "code",
   "execution_count": 4,
   "metadata": {},
   "outputs": [
    {
     "output_type": "stream",
     "name": "stdout",
     "text": [
      "HF\n",
      "converged SCF energy = -75.9839932282052\n",
      "CASCI\n",
      "CASCI E = -76.0332976332177  E(CI) = -13.0358172294198  S^2 = 0.0000000\n",
      "CASSCF\n",
      "CASSCF energy = -76.0826960373369\n",
      "CASCI E = -76.0826960373369  E(CI) = -13.4308921629509  S^2 = 0.0000000\n",
      "DFT\n",
      "converged SCF energy = -75.8178884198427\n"
     ]
    },
    {
     "output_type": "execute_result",
     "data": {
      "text/plain": [
       "-75.81788841984267"
      ]
     },
     "metadata": {},
     "execution_count": 4
    }
   ],
   "source": [
    "\n",
    "# create molecule\n",
    "mol = gto.M(atom=h2o, basis='631g')\n",
    "\n",
    "# HF\n",
    "print(\"HF\")\n",
    "mhf = scf.RHF(mol)\n",
    "mhf.kernel()\n",
    "\n",
    "# CASCI\n",
    "#   CASCI(hf mol, num electrons, num orbs)\n",
    "print(\"CASCI\")\n",
    "mci = mcscf.CASCI(mhf, 8, 6)\n",
    "mci.kernel()\n",
    "\n",
    "# CASSCF\n",
    "print(\"CASSCF\")\n",
    "mcf = mcscf.CASSCF(mhf, 8, 6)\n",
    "mcf.kernel()\n",
    "\n",
    "# DFT\n",
    "# restricted kohn sham calculation\n",
    "print(\"DFT\")\n",
    "mdft = dft.RKS(mol)\n",
    "mdft.kernel()\n"
   ]
  },
  {
   "cell_type": "code",
   "execution_count": null,
   "metadata": {},
   "outputs": [],
   "source": []
  }
 ]
}