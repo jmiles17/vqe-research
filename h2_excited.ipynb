{
 "metadata": {
  "language_info": {
   "codemirror_mode": {
    "name": "ipython",
    "version": 3
   },
   "file_extension": ".py",
   "mimetype": "text/x-python",
   "name": "python",
   "nbconvert_exporter": "python",
   "pygments_lexer": "ipython3",
   "version": "3.8.3-final"
  },
  "orig_nbformat": 2,
  "kernelspec": {
   "name": "python3",
   "display_name": "Python 3",
   "language": "python"
  }
 },
 "nbformat": 4,
 "nbformat_minor": 2,
 "cells": [
  {
   "cell_type": "code",
   "execution_count": 1,
   "metadata": {},
   "outputs": [],
   "source": [
    "## calculation of H2 excited state energies\n",
    "### based off the qiskit excited state tutorial"
   ]
  },
  {
   "cell_type": "code",
   "execution_count": 2,
   "metadata": {},
   "outputs": [],
   "source": [
    "from qiskit.chemistry.drivers import PySCFDriver, UnitsType, Molecule\n",
    "from qiskit.chemistry.transformations import FermionicTransformation, FermionicQubitMappingType\n",
    "\n",
    "from qiskit import BasicAer\n",
    "from qiskit.aqua import QuantumInstance\n",
    "from qiskit.chemistry.algorithms.ground_state_solvers import (GroundStateEigensolver, VQEUCCSDFactory)\n",
    "from qiskit.chemistry.algorithms.excited_states_solvers import QEOM\n",
    "\n",
    "from qiskit.chemistry.algorithms.excited_states_solvers import ExcitedStatesEigensolver\n",
    "\n",
    "\n"
   ]
  },
  {
   "cell_type": "code",
   "execution_count": 3,
   "metadata": {},
   "outputs": [],
   "source": [
    "## init molecule, driver, transformation\n",
    "\n",
    "molecule = Molecule(geometry=[['H', [0., 0., 0.]],\n",
    "                              ['H', [0., 0., 0.735]]],\n",
    "                     charge=0, multiplicity=1)\n",
    "driver = PySCFDriver(molecule = molecule, unit=UnitsType.ANGSTROM, basis='sto3g')\n",
    "transformation = FermionicTransformation(qubit_mapping=FermionicQubitMappingType.JORDAN_WIGNER)\n",
    "\n"
   ]
  },
  {
   "cell_type": "code",
   "execution_count": 4,
   "metadata": {},
   "outputs": [],
   "source": [
    "## init solver\n",
    "\n",
    "# This first part sets the ground state solver\n",
    "# see more about this part in the ground state calculation tutorial\n",
    "quantum_instance = QuantumInstance(BasicAer.get_backend('statevector_simulator'))\n",
    "solver = VQEUCCSDFactory(quantum_instance)\n",
    "gsc = GroundStateEigensolver(transformation, solver)\n",
    "\n",
    "# The qEOM algorithm is simply instantiated with the chosen ground state solver\n",
    "# \"Equation of motion\"\n",
    "# QEOM finds the excitation energies\n",
    "qeom_excited_states_calculation = QEOM(gsc, 'sd')\n",
    "\n"
   ]
  },
  {
   "cell_type": "code",
   "execution_count": 5,
   "metadata": {},
   "outputs": [
    {
     "output_type": "stream",
     "name": "stdout",
     "text": [
      "=== GROUND STATE ENERGY ===\n \n* Electronic ground state energy (Hartree): -1.857275030145\n  - computed part:      -1.857275030145\n  - frozen energy part: 0.0\n  - particle hole part: 0.0\n~ Nuclear repulsion energy (Hartree): 0.719968994449\n> Total ground state energy (Hartree): -1.137306035696\n \n=== EXCITED STATE ENERGIES ===\n \n  1: \n* Electronic excited state energy (Hartree): -1.244586743015\n> Total excited state energy (Hartree): -0.524617748566\n  2: \n* Electronic excited state energy (Hartree): -0.882724343416\n> Total excited state energy (Hartree): -0.162755348968\n  3: \n* Electronic excited state energy (Hartree): -0.224913446011\n> Total excited state energy (Hartree): 0.495055548438\n \n=== MEASURED OBSERVABLES ===\n \n  0:  # Particles: 2.000 S: 0.000 S^2: 0.000 M: 0.000\n \n=== DIPOLE MOMENTS ===\n \n~ Nuclear dipole moment (a.u.): [0.0  0.0  1.3889487]\n \n  0: \n  * Electronic dipole moment (a.u.): [0.0  0.0  1.38894866]\n    - computed part:      [0.0  0.0  1.38894866]\n    - frozen energy part: [0.0  0.0  0.0]\n    - particle hole part: [0.0  0.0  0.0]\n  > Dipole moment (a.u.): [0.0  0.0  0.00000004]  Total: 0.00000004\n                 (debye): [0.0  0.0  0.0000001]  Total: 0.0000001\n \n"
     ]
    }
   ],
   "source": [
    "## calculations\n",
    "\n",
    "qeom_results = qeom_excited_states_calculation.solve(driver)\n",
    "\n",
    "print(qeom_results)\n"
   ]
  }
 ]
}